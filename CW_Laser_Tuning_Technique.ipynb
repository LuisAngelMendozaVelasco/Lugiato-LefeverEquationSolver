{
 "cells": [
  {
   "cell_type": "markdown",
   "metadata": {},
   "source": [
    "# CW Laser Tuning Technique"
   ]
  },
  {
   "cell_type": "code",
   "execution_count": 1,
   "metadata": {},
   "outputs": [],
   "source": [
    "%matplotlib widget\n",
    "import Ring_core as rc\n",
    "import numpy as np\n",
    "from ipywidgets import interact\n",
    "import ipywidgets as widgets\n",
    "\n",
    "%load_ext autoreload\n",
    "%autoreload 2"
   ]
  },
  {
   "cell_type": "markdown",
   "metadata": {},
   "source": [
    "## Microresonator parameters"
   ]
  },
  {
   "cell_type": "code",
   "execution_count": 2,
   "metadata": {},
   "outputs": [],
   "source": [
    "ring_params = {  \n",
    "                'N': 511, # Number of modes. It must be odd!\n",
    "                'n0': 2.4, # Refractive index\n",
    "                'n2': 2.4e-19, # Nonlinear reftactive index [m^2/W]\n",
    "                'FSR': 100e9, # Free Spectral Range [Hz]\n",
    "                'lambda0': 1553.4e-9, # CW pump wavelength [m]\n",
    "                'kappa': 3e8, # Optical linewidth [Hz]\n",
    "                'eta': 0.5, # Coupling efficiency\n",
    "                'Veff': 1e-15, # Effective mode volume [m^3]\n",
    "                'D2': 2.5e6, # Second order dispersion [Hz]\n",
    "                'n2T': 2.4e-18, # Coefficient of thermal nonlinerity [m^2/W]\n",
    "                'Pin': 2 # Pump power [W]\n",
    "            }"
   ]
  },
  {
   "cell_type": "code",
   "execution_count": 3,
   "metadata": {},
   "outputs": [],
   "source": [
    "ring_1 = rc.Ring(ring_params)"
   ]
  },
  {
   "cell_type": "markdown",
   "metadata": {},
   "source": [
    "## Simulation options"
   ]
  },
  {
   "cell_type": "code",
   "execution_count": 4,
   "metadata": {},
   "outputs": [],
   "source": [
    "sim_opts = { \n",
    "            'Tuning': 'Forward', # \"Forward\" or \"Forward and backward\"\n",
    "            'Effects': None, # None or \"Thermal\" or \"Avoided mode crossings\"\n",
    "            'Noise': False # True or False\n",
    "        }"
   ]
  },
  {
   "cell_type": "markdown",
   "metadata": {},
   "source": [
    "## Simulation parameters"
   ]
  },
  {
   "cell_type": "code",
   "execution_count": 5,
   "metadata": {},
   "outputs": [],
   "source": [
    "fwrd_params = {\n",
    "                'dseta_start': -10, # Normalized detuning start\n",
    "                'dseta_end': 45, # Normalized detuning end\n",
    "                'Amu0': np.random.randn(ring_params['N']) + (np.random.randn(ring_params['N']) * 1j), # Initial field\n",
    "                'dseta_step': 0.01, # Tuning step\n",
    "                'roundtrips_step': 10 # Roundtrips per tuning step\n",
    "            }"
   ]
  },
  {
   "cell_type": "markdown",
   "metadata": {},
   "source": [
    "## Numerical simulation"
   ]
  },
  {
   "cell_type": "code",
   "execution_count": 6,
   "metadata": {},
   "outputs": [
    {
     "name": "stderr",
     "output_type": "stream",
     "text": [
      "100%|██████████| 5500/5500 [02:29<00:00, 36.70it/s]\n"
     ]
    }
   ],
   "source": [
    "dseta_fwrd, amu_fwrd = ring_1.num_sim(fwrd_params, sim_opts)"
   ]
  },
  {
   "cell_type": "markdown",
   "metadata": {},
   "source": [
    "## Plot results"
   ]
  },
  {
   "cell_type": "code",
   "execution_count": 13,
   "metadata": {},
   "outputs": [
    {
     "data": {
      "application/vnd.jupyter.widget-view+json": {
       "model_id": "cace807d87f247a7bef6425af18c7f04",
       "version_major": 2,
       "version_minor": 0
      },
      "text/plain": [
       "interactive(children=(FloatSlider(value=0.0, continuous_update=False, description='dseta_snap', max=45.0, min=…"
      ]
     },
     "metadata": {},
     "output_type": "display_data"
    }
   ],
   "source": [
    "interact(lambda dseta_snap: ring_1.plot_res(dseta_fwrd, amu_fwrd, dseta_snap), \n",
    "         dseta_snap=widgets.FloatSlider(min=fwrd_params['dseta_start'], max=fwrd_params['dseta_end'], step=fwrd_params['dseta_step'], value=0, continuous_update=False));"
   ]
  }
 ],
 "metadata": {
  "kernelspec": {
   "display_name": "Python 3 (ipykernel)",
   "language": "python",
   "name": "python3"
  },
  "language_info": {
   "codemirror_mode": {
    "name": "ipython",
    "version": 3
   },
   "file_extension": ".py",
   "mimetype": "text/x-python",
   "name": "python",
   "nbconvert_exporter": "python",
   "pygments_lexer": "ipython3",
   "version": "3.9.13"
  },
  "vscode": {
   "interpreter": {
    "hash": "3cfd106f785ae1e288da74ae733f9b47f8a2699db986927140be0bc196406f4c"
   }
  }
 },
 "nbformat": 4,
 "nbformat_minor": 2
}
