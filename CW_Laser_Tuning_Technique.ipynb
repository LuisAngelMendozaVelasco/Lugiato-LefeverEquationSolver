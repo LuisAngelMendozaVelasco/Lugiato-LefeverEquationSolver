{
 "cells": [
  {
   "cell_type": "markdown",
   "metadata": {},
   "source": [
    "# CW Laser Tuning Technique"
   ]
  },
  {
   "cell_type": "code",
   "execution_count": 2,
   "metadata": {},
   "outputs": [],
   "source": [
    "%matplotlib widget\n",
    "import Ring_core as rc\n",
    "import numpy as np\n",
    "from ipywidgets import interact\n",
    "import ipywidgets as widgets\n",
    "\n",
    "%load_ext autoreload\n",
    "%autoreload 2"
   ]
  },
  {
   "cell_type": "markdown",
   "metadata": {},
   "source": [
    "### Microresonator parameters"
   ]
  },
  {
   "cell_type": "code",
   "execution_count": 3,
   "metadata": {},
   "outputs": [],
   "source": [
    "ring_parameters =   {  \n",
    "                        'N': 511, # Number of modes. It must be odd!\n",
    "                        'n0': 2.4, # Refractive index\n",
    "                        'n2': 2.4e-19, # Nonlinear reftactive index [m^2/W]\n",
    "                        'FSR': 100e9, # Free Spectral Range [Hz]\n",
    "                        'lambda0': 1553.4e-9, # CW pump wavelength [m]\n",
    "                        'kappa': 3e8, # Optical linewidth [Hz]\n",
    "                        'eta': 0.5, # Coupling efficiency\n",
    "                        'Veff': 1e-15, # Effective mode volume [m^3]\n",
    "                        'D2': 2.5e6, # Second order dispersion [Hz]\n",
    "                        'n2T': 2.4e-18, # Coefficient of thermal nonlinerity [m^2/W]\n",
    "                        'Pin': 2 # Pump power [W]\n",
    "                    }"
   ]
  },
  {
   "cell_type": "markdown",
   "metadata": {},
   "source": [
    "## Ring 1 - Forward tuning with no effects"
   ]
  },
  {
   "cell_type": "code",
   "execution_count": 30,
   "metadata": {},
   "outputs": [],
   "source": [
    "ring_1 = rc.Ring(ring_parameters)"
   ]
  },
  {
   "cell_type": "markdown",
   "metadata": {},
   "source": [
    "### Simulation parameters"
   ]
  },
  {
   "cell_type": "code",
   "execution_count": 35,
   "metadata": {},
   "outputs": [],
   "source": [
    "simulation_options =    { \n",
    "                            'Effects': None, # None or \"Thermal\" or \"Avoided mode crossings\"\n",
    "                            'Noise': False # True or False\n",
    "                        }\n",
    "\n",
    "forward_parameters =    {\n",
    "                            'dseta_start': -10, # Normalized detuning start\n",
    "                            'dseta_end': 45, # Normalized detuning end\n",
    "                            'dseta_step': 0.01, # Tuning step\n",
    "                            'roundtrips_step': 10, # Roundtrips per tuning step\n",
    "                            'Amu0': np.random.randn(ring_parameters['N']) + (np.random.randn(ring_parameters['N']) * 1j), # Initial field\n",
    "                            'theta0': 0,                            \n",
    "                            'tauT': 1e-8,\n",
    "                            'mode_perturbated': 15\n",
    "                        }"
   ]
  },
  {
   "cell_type": "markdown",
   "metadata": {},
   "source": [
    "### Numerical simulation"
   ]
  },
  {
   "cell_type": "code",
   "execution_count": 37,
   "metadata": {},
   "outputs": [
    {
     "name": "stderr",
     "output_type": "stream",
     "text": [
      "100%|██████████| 5500/5500 [03:29<00:00, 26.19it/s]\n"
     ]
    }
   ],
   "source": [
    "dseta_forward, amu_forward, theta_forward = ring_1.num_sim(forward_parameters, simulation_options)"
   ]
  },
  {
   "cell_type": "markdown",
   "metadata": {},
   "source": [
    "### Plot results"
   ]
  },
  {
   "cell_type": "code",
   "execution_count": 38,
   "metadata": {},
   "outputs": [
    {
     "data": {
      "application/vnd.jupyter.widget-view+json": {
       "model_id": "550f49fba35b403da810e2e90a60e0b6",
       "version_major": 2,
       "version_minor": 0
      },
      "text/plain": [
       "interactive(children=(FloatSlider(value=0.0, continuous_update=False, description='dseta_snap', max=45.0, min=…"
      ]
     },
     "metadata": {},
     "output_type": "display_data"
    }
   ],
   "source": [
    "interact(lambda dseta_snap: ring_1.plot_res(dseta_forward, amu_forward, dseta_snap=dseta_snap), \n",
    "         dseta_snap=widgets.FloatSlider(min=forward_parameters['dseta_start'], max=forward_parameters['dseta_end'], step=forward_parameters['dseta_step'], value=0, continuous_update=False));"
   ]
  }
 ],
 "metadata": {
  "kernelspec": {
   "display_name": "Python 3 (ipykernel)",
   "language": "python",
   "name": "python3"
  },
  "language_info": {
   "codemirror_mode": {
    "name": "ipython",
    "version": 3
   },
   "file_extension": ".py",
   "mimetype": "text/x-python",
   "name": "python",
   "nbconvert_exporter": "python",
   "pygments_lexer": "ipython3",
   "version": "3.9.13"
  },
  "vscode": {
   "interpreter": {
    "hash": "3cfd106f785ae1e288da74ae733f9b47f8a2699db986927140be0bc196406f4c"
   }
  }
 },
 "nbformat": 4,
 "nbformat_minor": 2
}
